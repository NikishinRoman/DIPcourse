{
 "cells": [
  {
   "cell_type": "markdown",
   "metadata": {},
   "source": [
    "# Pre-tutorial on Arrays and NumPy"
   ]
  },
  {
   "cell_type": "markdown",
   "metadata": {},
   "source": [
    "This tutorial gives an introduction to arrays and NumPy that are used for making the programming assignments for the Digital Image Processing course. Please note that this notebook has been modified from [1].\n",
    "\n",
    "NumPy is a python library that can be used to manipulate arrays in similar ways to how MATLAB does it. Vectors and matrices (here referred to as **arrays**).\n",
    "\n",
    "If you are familiar with MATLAB, there are several NumPy __[tutorials](https://docs.scipy.org/doc/numpy-dev/user/numpy-for-matlab-users.html)__ and __[reference cheat sheets](http://mathesaurus.sourceforge.net/matlab-numpy.html)__ for MATLAB users."
   ]
  },
  {
   "cell_type": "markdown",
   "metadata": {},
   "source": [
    "## 1. What are arrays?\n",
    "\n",
    "An array is a multi dimensional grid of data. Tables in Microsoft Excel can be thought of as arrays with dimensions `r × c × p` corresponding to `r` rows `c` columns and `p` pages. In NumPy, it is similar but you can have multi-dimensional arrays, with more than three dimensions. The figures below illustrates arrays of different dimensions."
   ]
  },
  {
   "cell_type": "markdown",
   "metadata": {},
   "source": [
    "<img src=\"figA.jpeg\",width=600>"
   ]
  },
  {
   "cell_type": "markdown",
   "metadata": {},
   "source": [
    "There are many good reasons why one might want to use arrays. For example, images are naturally stored as arrays."
   ]
  },
  {
   "cell_type": "markdown",
   "metadata": {},
   "source": [
    "An image as an array, with each entry being a pixel value: <img src=\"figC.png\">"
   ]
  },
  {
   "cell_type": "markdown",
   "metadata": {},
   "source": [
    "## 2. Create arrays using NumPy\n",
    "\n",
    "The first thing to do is to import the library:"
   ]
  },
  {
   "cell_type": "code",
   "execution_count": null,
   "metadata": {
    "collapsed": true
   },
   "outputs": [],
   "source": [
    "import numpy as np "
   ]
  },
  {
   "cell_type": "markdown",
   "metadata": {},
   "source": [
    "### Numpy arrays\n",
    "\n",
    "In NumPy, arrays are lists, except that all the entries have to be of the same _data type_ (`int8`, `int32`, `float`, `boolean`, etc). \n",
    "\n",
    "NumPy arrays can be created using the same syntax as for a regular Python list and, in addition, using the NumPy function `array` as illustrated below. This function converts a list into a one-dimensional array, a list of lists into a two-dimensional array, a list of list that is a list of lists into a three-dimensional array, etc. The variable class of such objects is `numpy.ndarray`:"
   ]
  },
  {
   "cell_type": "code",
   "execution_count": null,
   "metadata": {
    "collapsed": true
   },
   "outputs": [],
   "source": [
    "# defining arrays\n",
    "a = np.array([1, 2, 3, 4, 5, 6, 7, 8, 9]) # a row vector, also called a 1x9 array\n",
    "b = np.array([[5], [6], [3], [-1], [6], [9], [2], [5], [5]]) # a column vector, also called a 9x1 array\n",
    "A = np.array([[1, 2, 3, 4, -1, -2, -3, -4], [5, 6, 7, 8, -5, -6, -7, -8]]) # a 2x8 matrix or array\n",
    "\n",
    "# display the results\n",
    "print 'a = ', a\n",
    "print 'a has', len(a.shape), 'dimension(s)', 'and is a variable of class', type(a), 'and data type', a.dtype, '\\n'\n",
    "print 'b = \\n',  b\n",
    "print 'b has', len(b.shape), 'dimension(s)', 'and is a variable of class', type(b), 'and data type', b.dtype, '\\n'\n",
    "print 'A = \\n',  A\n",
    "print 'A has', len(A.shape), 'dimension(s)', 'and is a variable of class', type(A), 'and data type', A.dtype, '\\n'"
   ]
  },
  {
   "cell_type": "markdown",
   "metadata": {},
   "source": [
    "One can use the function `shape` to show the array dimensions, the function `type` to get the _variable type_ (i.e. a numpy array) and `dtype` for the _data type_ (`int64`, `float`, `boolean`, etc):"
   ]
  },
  {
   "cell_type": "code",
   "execution_count": null,
   "metadata": {
    "collapsed": true
   },
   "outputs": [],
   "source": [
    "print A.shape # shape of A is 2x8\n",
    "rA, cA = A.shape\n",
    "print 'rows =',rA # number of rows\n",
    "print 'columns =',cA # and columns"
   ]
  },
  {
   "cell_type": "markdown",
   "metadata": {},
   "source": [
    "### Array creation routines\n",
    "\n",
    "NumPy has built-in functions for __[creating arrays](https://docs.scipy.org/doc/numpy/reference/routines.array-creation.html)__ from scratch.\n",
    "\n",
    "For instance, it is often useful to create equally spaced arrays and sequences of numbers. Instead of creating this kind of arrays by manually typing all the elements (like in the example above), there are more efficient ways like `arange` and `linspace` functions:"
   ]
  },
  {
   "cell_type": "code",
   "execution_count": null,
   "metadata": {
    "collapsed": true
   },
   "outputs": [],
   "source": [
    "# Equally spaced arrays and sequences of numbers\n",
    "c1 = np.arange(1,10,1) # from 1 to 9, increasing with a step of 1\n",
    "c2 = np.arange(1,10,2) # from 1 to 9, increasing with a step of 2\n",
    "c3 = np.arange(10,1,-2) # from 10 to 2, decreasing with a step of 2\n",
    "c4 = np.arange( 0, 2, 0.3 ) # with float arguments \n",
    "c5 = np.linspace( 0, 2, 9 )  # 9 numbers from 0 to 2\n",
    "\n",
    "# display    \n",
    "print 'c1 = ',  c1\n",
    "print 'c2 = ',  c2\n",
    "print 'c3 = ',  c3\n",
    "print 'c4 = ',  c4\n",
    "print 'c5 = ',  c5"
   ]
  },
  {
   "cell_type": "markdown",
   "metadata": {},
   "source": [
    "In many practical situations, the elements of an array are originally unknown but the size is known. Hence, NumPy offers several functions to create arrays. For instance, the function: \n",
    "* `zeros` creates an array full of zeros\n",
    "* `ones` creates an array full of ones\n",
    "* `empty` creates an array whose initial content is random and depends on the state of the memory\n",
    "* `full ` creates an array full of fill values. \n",
    "\n",
    "Only the shape of the new array needs to be specified, while e.g. data type is optional. Below are some examples of how to use such functions:"
   ]
  },
  {
   "cell_type": "code",
   "execution_count": null,
   "metadata": {
    "collapsed": true
   },
   "outputs": [],
   "source": [
    "# Arrays with zeros, ones, random and sime fixed value entries - here you need to specify the sizes of the dimensions (also known as axis in Python)\n",
    "d1 = np.zeros((3,4))  # 3 rows, 4 columns\n",
    "d2 = np.ones((2,3,4)) # 2 of 3 rows and 4 columns\n",
    "d3 = np.empty((2,3))  # 2 rows, 3 columns\n",
    "d4 = np.full((3,3), np.inf)  # 3 rows, 3 columns\n",
    "\n",
    "print 'd1 = ',  d1, '\\n'\n",
    "print 'd2 = ',  d2, '\\n'\n",
    "print 'd3 = ',  d3, '\\n'\n",
    "print 'd4 = ',  d4, '\\n'"
   ]
  },
  {
   "cell_type": "markdown",
   "metadata": {},
   "source": [
    "Alternatively, the shape and type can be copied from a given input array:"
   ]
  },
  {
   "cell_type": "code",
   "execution_count": null,
   "metadata": {
    "collapsed": true,
    "scrolled": true
   },
   "outputs": [],
   "source": [
    "c1 = np.zeros_like((d1))  # shape and type copied from d1\n",
    "c2 = np.ones_like(d2) # shape and type copied from d2\n",
    "c3 = np.empty_like(d3)  # shape and type copied from d3\n",
    "c4 = np.full_like(d4, np.inf)  # shape and type copied from d4\n",
    "\n",
    "print 'c1 = ',  c1, '\\n'\n",
    "print 'c2 = ',  c2, '\\n'\n",
    "print 'c3 = ',  c3, '\\n'\n",
    "print 'c4 = ',  c4, '\\n'"
   ]
  },
  {
   "cell_type": "markdown",
   "metadata": {},
   "source": [
    "## 3. Manipulating arrays with NumPy"
   ]
  },
  {
   "cell_type": "markdown",
   "metadata": {},
   "source": [
    "### Arithmetic operations on arrays\n",
    "\n",
    "Arithmetic operators on NumPy arrays apply *element-wise*. For instance, `*` means element-wise multiplication, and the **dot** function is used for matrix multiplication. (In Matlab, `*` means matrix multiplication, and `.*` is used for matrix multiplication.)"
   ]
  },
  {
   "cell_type": "code",
   "execution_count": null,
   "metadata": {
    "collapsed": true
   },
   "outputs": [],
   "source": [
    "a = np.array([[1, 2, 3], [4, 5, 6]])\n",
    "b = np.array([[3, 19, 20], [9, 16, 14]])\n",
    "c = np.array([[7, 8], [9, 10], [11, 12]])\n",
    "d = np.arange(1.,10.,1)\n",
    "\n",
    "print 'a = \\n', a\n",
    "print 'b = \\n', b\n",
    "print 'c = \\n', c\n",
    "print 'd = \\n', d, '\\n'\n",
    "print 'element-element multiplication a*b (see figure): \\n', a*b, '\\n' # element-wise array multiplication \n",
    "print 'matrix multiplication a*c (see figure): \\n', np.dot(a,c), '\\n' # matrix multiplication\n",
    "print 'raise each element of d to the power of 2: \\n', d**2, '\\n'  # raise each element of a to the power of 2\n",
    "print 'divide each element of d by 2: \\n', d/2, '\\n' # divide each element of a by 2"
   ]
  },
  {
   "cell_type": "markdown",
   "metadata": {},
   "source": [
    "Element-element array multiplication: <img src=\"figF.png\">\n",
    "\n",
    "Matrix multiplication: <img src=\"figE.png\">"
   ]
  },
  {
   "cell_type": "markdown",
   "metadata": {},
   "source": [
    "### Array functions\n",
    "\n",
    "Arrays can be manipulated in other ways, apart from doing arithmetic operations on them. NumPy offers specific functions e.g. for __[array manipulation](https://docs.scipy.org/doc/numpy/reference/routines.array-manipulation.html)__, like changing array shape: "
   ]
  },
  {
   "cell_type": "code",
   "execution_count": null,
   "metadata": {
    "collapsed": true
   },
   "outputs": [],
   "source": [
    "b = np.arange(20)\n",
    "print b, '\\n'\n",
    "\n",
    "b = np.reshape(b, (4, 5)) # a new shape to an array without changing its data, e.g. 1x20 to \n",
    "print b, '\\n'\n",
    "\n",
    "print b.flatten() # the array collapsed into one dimension again"
   ]
  },
  {
   "cell_type": "markdown",
   "metadata": {},
   "source": [
    "Note that various functions can be connected:"
   ]
  },
  {
   "cell_type": "code",
   "execution_count": null,
   "metadata": {
    "collapsed": true,
    "scrolled": true
   },
   "outputs": [],
   "source": [
    "b = np.arange(20).reshape(4,5)\n",
    "print b"
   ]
  },
  {
   "cell_type": "markdown",
   "metadata": {},
   "source": [
    "Joining arrays:"
   ]
  },
  {
   "cell_type": "code",
   "execution_count": null,
   "metadata": {
    "collapsed": true,
    "scrolled": true
   },
   "outputs": [],
   "source": [
    "c = np.random.randint(0,high=100,size=(3,1))\n",
    "print c,'\\n'\n",
    "\n",
    "C = np.hstack([c,c,c]) # concatenate 3x1 array c horizontally\n",
    "print C,'\\n'\n",
    "\n",
    "C = np.vstack([c.transpose(),c.transpose(),c.transpose()]) # concatenate transpose of array c vertically\n",
    "print C"
   ]
  },
  {
   "cell_type": "markdown",
   "metadata": {},
   "source": [
    "Deleting sub-arrays, e.g. whole rows and columns:"
   ]
  },
  {
   "cell_type": "code",
   "execution_count": null,
   "metadata": {
    "collapsed": true,
    "scrolled": false
   },
   "outputs": [],
   "source": [
    "D = np.random.randint(0, high=100, size=(5,5)) # create 10×10 random integer array D\n",
    "print D,'\\n'\n",
    "\n",
    "D = np.delete(D, 0, axis=0) # delete first row of D\n",
    "print D,'\\n'\n",
    "\n",
    "D = np.delete(D, -1, axis=1) # delete last column of D\n",
    "print D"
   ]
  },
  {
   "cell_type": "markdown",
   "metadata": {},
   "source": [
    "One can also apply __[mathematical functions](https://docs.scipy.org/doc/numpy/reference/routines.math.html)__ on array elements, e.g. calculate the exponential of all elements in the input array:"
   ]
  },
  {
   "cell_type": "code",
   "execution_count": null,
   "metadata": {
    "collapsed": true
   },
   "outputs": [],
   "source": [
    "M = 5 # window size\n",
    "std = 1 # standard deviation (sigma)\n",
    "\n",
    "# create a Gaussian window\n",
    "n = np.arange(0, M) - (M - 1.0) / 2.0\n",
    "w = np.exp(-n**2 / (2 * std**2) )\n",
    "\n",
    "print 'n =', n, '\\n'\n",
    "print 'Gaussian window w =', w"
   ]
  },
  {
   "cell_type": "markdown",
   "metadata": {},
   "source": [
    "Or obtain specific information about arrays, like __[statistics](https://docs.scipy.org/doc/numpy/reference/routines.statistics.html)__:"
   ]
  },
  {
   "cell_type": "code",
   "execution_count": null,
   "metadata": {
    "collapsed": true
   },
   "outputs": [],
   "source": [
    "print 'maximum value in array D =', np.max(D)\n",
    "print 'minimum value in array D =', np.min(D)\n",
    "print 'mean value in array D =', np.mean(D)\n",
    "print 'standard deviation in array D =', np.std(D)"
   ]
  },
  {
   "cell_type": "markdown",
   "metadata": {},
   "source": [
    "It is important to note that many of these functions operate on the whole array or along some specified dimension by default. For instance, function  `max` can be used to return the maximum of an array or maximum along an axis. By default, flattened input is used, i.e. the function returns the maximum of the whole array:"
   ]
  },
  {
   "cell_type": "code",
   "execution_count": null,
   "metadata": {
    "collapsed": true
   },
   "outputs": [],
   "source": [
    "print 'D = \\n', D, '\\n'\n",
    "print 'D flattened = \\n', D.flatten(), '\\n' # A flattened\n",
    "print 'maximum value in array D =', np.max(D) # max in array\n",
    "print 'maximum value in each column of D =', np.max(D, axis=0) # max in each column\n",
    "print 'maximum value in each row of D =', np.max(D, axis=1) # max in each row"
   ]
  },
  {
   "cell_type": "markdown",
   "metadata": {},
   "source": [
    "These things are also crucial to understand in order to write vectorized code and avoid useless for loops, i.e. in many cases, **one does not have to iterate through all individual elements or rows/columns in order to perform a specific operation on them**."
   ]
  },
  {
   "cell_type": "markdown",
   "metadata": {},
   "source": [
    "Remember that you can (and are encouraged to) look up the use of these (and other) functions from the NumPy documentation, including __[array manipulation](https://docs.scipy.org/doc/numpy/reference/routines.array-manipulation.html)__, __[mathematical functions](https://docs.scipy.org/doc/numpy/reference/routines.math.html)__ and __[statistics](https://docs.scipy.org/doc/numpy/reference/routines.statistics.html)__, for instance."
   ]
  },
  {
   "cell_type": "markdown",
   "metadata": {},
   "source": [
    "## 4. Index and slice arrays\n",
    "\n",
    "### Slicing\n",
    "\n",
    "As is standard for Python, NumPy uses 0 (zero) based indexing as well. Entries in arrays can be accessed by indicating the name of the array and the entry position in each dimension inside square brackets: "
   ]
  },
  {
   "cell_type": "code",
   "execution_count": null,
   "metadata": {
    "collapsed": true
   },
   "outputs": [],
   "source": [
    "e = np.arange(10)**3  # define new array\n",
    "print 'e = ', e, '\\n'\n",
    "print 'Third entry in e:', e[2], '\\n' # access the third entry from left to right -> indexing\n",
    "print 'Entries 2 to 5 in e:', e[2:5], '\\n' # access entries 3 to 5 -> slicing\n",
    "print 'Every second entry from 2 to 8 in e:', e[1:8:2], '\\n' # access every second entry from 2 to 8 -> slicing"
   ]
  },
  {
   "cell_type": "markdown",
   "metadata": {},
   "source": [
    "In the case of 2D arrays, always specify the row first and column second (row, col):"
   ]
  },
  {
   "cell_type": "code",
   "execution_count": null,
   "metadata": {
    "collapsed": true
   },
   "outputs": [],
   "source": [
    "# recall b is defined above\n",
    "b = np.arange(20).reshape(4,5)\n",
    "print 'b = \\n', b, '\\n'\n",
    "print 'Entry in row 3, column 2 in b:', b[2,1], '\\n' # access entry in position 2,1 -> indexing\n",
    "print '\"Middle-bottom\" minor array of b: \\n', b[-2:,1:-1], '\\n' # access entries in the second and third rows and columns -> slicing\n",
    "print 'Second column of b: \\n', b[:,1], '\\n'\n",
    "print 'Third row of b: \\n', b[2,:],'\\n'\n",
    "print 'First two rows and columns of b: \\n', b[:2, :2], '\\n'\n",
    "print 'Last two rows and columns of b:\\n', b[-2:,-2:], '\\n'"
   ]
  },
  {
   "cell_type": "markdown",
   "metadata": {},
   "source": [
    "Replace the second column and last row of `A` with `b` using indexing."
   ]
  },
  {
   "cell_type": "code",
   "execution_count": null,
   "metadata": {
    "collapsed": true
   },
   "outputs": [],
   "source": [
    "A = np.random.randint(0,high=100,size=(3,3))\n",
    "b = np.random.randint(0,high=100,size=(3,1))\n",
    "\n",
    "print 'A = \\n', A,'\\n'\n",
    "print 'b = \\n', b,'\\n'\n",
    "\n",
    "A[:,1] = b.flatten() # replace second column of A with b\n",
    "print 'A = \\n', A,'\\n'\n",
    "\n",
    "A[-1,:] = b.flatten() # replace last row of A with b\n",
    "print 'A = \\n', A,'\\n'"
   ]
  },
  {
   "cell_type": "markdown",
   "metadata": {},
   "source": [
    "For 2D multichannel arrays, like RGB or HSV images, the additional last coordinate would specify the channel (row, col, ch)."
   ]
  },
  {
   "cell_type": "markdown",
   "metadata": {},
   "source": [
    "### Logical indexing:\n",
    "\n",
    "You can use the logical operators `>, >=, <, <=, ==, |, &` (greater than, greater than or equal to, less than, less than or equal to, equal, or, and) to test entries in arrays, as follows:"
   ]
  },
  {
   "cell_type": "code",
   "execution_count": null,
   "metadata": {
    "collapsed": true
   },
   "outputs": [],
   "source": [
    "I = np.array([[17, 24, 1, 8, 15],\n",
    "              [23, 5, 7, 14, 16],\n",
    "              [4, 6, 13, 20, 22],\n",
    "              [10, 12, 19, 21, 3],\n",
    "              [11, 18, 25,  2,  9]])\n",
    "\n",
    "L = I < 10\n",
    "\n",
    "print L,'\\n' # gives the entry values of the elements of a that are less than 10.\n",
    "\n",
    "print np.logical_not(L) # all other values"
   ]
  },
  {
   "cell_type": "markdown",
   "metadata": {},
   "source": [
    "This operation generates a new array of the same size as that being tested but with entries either `False` or `True` depending on how they evaluate. The resulting logical array can be used *access* elements of another array. For instance, one can list or operate on all the elements of the array that meet the condition:"
   ]
  },
  {
   "cell_type": "code",
   "execution_count": null,
   "metadata": {
    "collapsed": true,
    "scrolled": true
   },
   "outputs": [],
   "source": [
    "print I[L],'\\n' # lists all element values of a that are less than 10.\n",
    "\n",
    "print I[np.logical_not(L)],'\\n' # lists all other element values.\n",
    "\n",
    "J = np.zeros_like(I) # J is zero matrix size of I\n",
    "\n",
    "J[L] = I[L] # copy all the elements from I that are less than 10 to J to corresponding locations\n",
    "\n",
    "print J,'\\n'\n",
    "\n",
    "J[J==0] = -1 # set all values of J equal to zero to -1\n",
    "\n",
    "print J,'\\n'"
   ]
  },
  {
   "cell_type": "markdown",
   "metadata": {},
   "source": [
    "Again, also these things are also crucial to understand in order to write vectorized code and avoid useless for loops."
   ]
  },
  {
   "cell_type": "markdown",
   "metadata": {},
   "source": [
    "## 5. Help and Documentation\n",
    "\n",
    "You have already used many of the tools NumPy has on offer. You might want to read more about how those functions are used, and you should! \n",
    "To do so, you can type in the terminal:\n",
    "\n",
    "`help(functionname)`\n",
    "\n",
    "Or, you can also check the documentation and search the name of the function there."
   ]
  },
  {
   "cell_type": "markdown",
   "metadata": {
    "collapsed": true
   },
   "source": [
    "#### References\n",
    "\n",
    "[1] https://github.com/karinsasaki/python-workshop-image-processing/blob/master/pre_tutorial/arrays-and-numpy.ipynb"
   ]
  },
  {
   "cell_type": "code",
   "execution_count": null,
   "metadata": {
    "collapsed": true
   },
   "outputs": [],
   "source": []
  }
 ],
 "metadata": {
  "kernelspec": {
   "display_name": "Python 2",
   "language": "python",
   "name": "python2"
  },
  "language_info": {
   "codemirror_mode": {
    "name": "ipython",
    "version": 2
   },
   "file_extension": ".py",
   "mimetype": "text/x-python",
   "name": "python",
   "nbconvert_exporter": "python",
   "pygments_lexer": "ipython2",
   "version": "2.7.13"
  }
 },
 "nbformat": 4,
 "nbformat_minor": 1
}
