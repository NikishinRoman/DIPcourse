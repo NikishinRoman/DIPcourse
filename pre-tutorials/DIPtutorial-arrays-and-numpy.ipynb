{
 "cells": [
  {
   "cell_type": "code",
   "execution_count": 1,
   "metadata": {
    "collapsed": true
   },
   "outputs": [],
   "source": [
    "from __future__ import print_function # print function for Python 2/3 compatibility"
   ]
  },
  {
   "cell_type": "markdown",
   "metadata": {},
   "source": [
    "# Pre-tutorial on Arrays and NumPy"
   ]
  },
  {
   "cell_type": "markdown",
   "metadata": {},
   "source": [
    "This tutorial gives an introduction to arrays and NumPy that are used for making the programming assignments for the Digital Image Processing course. Please note that this notebook has been modified from [1].\n",
    "\n",
    "NumPy is a python library that can be used to manipulate arrays in similar ways to how MATLAB does it. Vectors and matrices (here referred to as **arrays**).\n",
    "\n",
    "If you are familiar with MATLAB, there are several NumPy __[tutorials](https://docs.scipy.org/doc/numpy-dev/user/numpy-for-matlab-users.html)__ and __[reference cheat sheets](http://mathesaurus.sourceforge.net/matlab-numpy.html)__ for MATLAB users."
   ]
  },
  {
   "cell_type": "markdown",
   "metadata": {},
   "source": [
    "## 1. What are arrays?\n",
    "\n",
    "An array is a multi dimensional grid of data. Tables in Microsoft Excel can be thought of as arrays with dimensions `r × c × p` corresponding to `r` rows `c` columns and `p` pages. In NumPy, it is similar but you can have multi-dimensional arrays, with more than three dimensions. The figures below illustrates arrays of different dimensions: <img src=\"figA.jpeg\">"
   ]
  },
  {
   "cell_type": "markdown",
   "metadata": {},
   "source": [
    "There are many good reasons why one might want to use arrays. For example, images are naturally stored as arrays."
   ]
  },
  {
   "cell_type": "markdown",
   "metadata": {},
   "source": [
    "An image as an array, with each entry being a pixel value: <img src=\"figC.png\">"
   ]
  },
  {
   "cell_type": "markdown",
   "metadata": {},
   "source": [
    "## 2. Create arrays using NumPy\n",
    "\n",
    "The first thing to do is to import the library:"
   ]
  },
  {
   "cell_type": "code",
   "execution_count": 2,
   "metadata": {
    "collapsed": true
   },
   "outputs": [],
   "source": [
    "import numpy as np "
   ]
  },
  {
   "cell_type": "markdown",
   "metadata": {},
   "source": [
    "### Numpy arrays\n",
    "\n",
    "In NumPy, arrays are lists, except that all the entries have to be of the same _data type_ (`int8`, `int32`, `float`, `boolean`, etc). \n",
    "\n",
    "NumPy arrays can be created using the same syntax as for a regular Python list and, in addition, using the NumPy function `array` as illustrated below. This function converts a list into a one-dimensional array, a list of lists into a two-dimensional array, a list of list that is a list of lists into a three-dimensional array, etc. The variable class of such objects is `numpy.ndarray`:"
   ]
  },
  {
   "cell_type": "code",
   "execution_count": 3,
   "metadata": {},
   "outputs": [
    {
     "name": "stdout",
     "output_type": "stream",
     "text": [
      "a =  [1 2 3 4 5 6 7 8 9]\n",
      "a has 1 dimension(s) and is a variable of class <type 'numpy.ndarray'> and data type int64 \n",
      "\n",
      "b = \n",
      " [[ 5]\n",
      " [ 6]\n",
      " [ 3]\n",
      " [-1]\n",
      " [ 6]\n",
      " [ 9]\n",
      " [ 2]\n",
      " [ 5]\n",
      " [ 5]]\n",
      "b has 2 dimension(s) and is a variable of class <type 'numpy.ndarray'> and data type int64 \n",
      "\n",
      "A = \n",
      " [[ 1  2  3  4 -1 -2 -3 -4]\n",
      " [ 5  6  7  8 -5 -6 -7 -8]]\n",
      "A has 2 dimension(s) and is a variable of class <type 'numpy.ndarray'> and data type int64 \n",
      "\n"
     ]
    }
   ],
   "source": [
    "# defining arrays\n",
    "a = np.array([1, 2, 3, 4, 5, 6, 7, 8, 9]) # a row vector, also called a 1x9 array\n",
    "b = np.array([[5], [6], [3], [-1], [6], [9], [2], [5], [5]]) # a column vector, also called a 9x1 array\n",
    "A = np.array([[1, 2, 3, 4, -1, -2, -3, -4], [5, 6, 7, 8, -5, -6, -7, -8]]) # a 2x8 matrix or array\n",
    "\n",
    "# display the results\n",
    "print('a = ', a)\n",
    "print('a has', len(a.shape), 'dimension(s)', 'and is a variable of class', type(a), 'and data type', a.dtype, '\\n')\n",
    "print('b = \\n',  b)\n",
    "print('b has', len(b.shape), 'dimension(s)', 'and is a variable of class', type(b), 'and data type', b.dtype, '\\n')\n",
    "print('A = \\n',  A)\n",
    "print('A has', len(A.shape), 'dimension(s)', 'and is a variable of class', type(A), 'and data type', A.dtype, '\\n')"
   ]
  },
  {
   "cell_type": "markdown",
   "metadata": {},
   "source": [
    "One can use the function `shape` to show the array dimensions, the function `type` to get the _variable type_ (i.e. a numpy array) and `dtype` for the _data type_ (`int64`, `float`, `boolean`, etc):"
   ]
  },
  {
   "cell_type": "code",
   "execution_count": 4,
   "metadata": {},
   "outputs": [
    {
     "name": "stdout",
     "output_type": "stream",
     "text": [
      "(2, 8)\n",
      "rows = 2\n",
      "columns = 8\n"
     ]
    }
   ],
   "source": [
    "print(A.shape) # shape of A is 2x8\n",
    "\n",
    "rA, cA = A.shape\n",
    "print('rows =', rA)    # number of rows\n",
    "print('columns =', cA) # and columns"
   ]
  },
  {
   "cell_type": "markdown",
   "metadata": {},
   "source": [
    "### Array creation routines\n",
    "\n",
    "NumPy has built-in functions for __[creating arrays](https://docs.scipy.org/doc/numpy/reference/routines.array-creation.html)__ from scratch.\n",
    "\n",
    "For instance, it is often useful to create equally spaced arrays and sequences of numbers. Instead of creating this kind of arrays by manually typing all the elements (like in the example above), there are more efficient ways like __[`arange()`](https://docs.scipy.org/doc/numpy/reference/generated/numpy.arange.html#numpy.arange)__ and __[`linspace()`](https://docs.scipy.org/doc/numpy/reference/generated/numpy.linspace.html#numpy.linspace)__ functions:"
   ]
  },
  {
   "cell_type": "code",
   "execution_count": 5,
   "metadata": {},
   "outputs": [
    {
     "name": "stdout",
     "output_type": "stream",
     "text": [
      "c1 =  [1 2 3 4 5 6 7 8 9]\n",
      "c2 =  [1 3 5 7 9]\n",
      "c3 =  [10  8  6  4  2]\n",
      "c4 =  [ 0.   0.3  0.6  0.9  1.2  1.5  1.8]\n",
      "c5 =  [ 0.    0.25  0.5   0.75  1.    1.25  1.5   1.75  2.  ]\n"
     ]
    }
   ],
   "source": [
    "# Equally spaced arrays and sequences of numbers\n",
    "c1 = np.arange(1, 10, 1)    # from 1 to 9, increasing with a step of 1\n",
    "c2 = np.arange(1, 10, 2)    # from 1 to 9, increasing with a step of 2\n",
    "c3 = np.arange(10, 1, -2)   # from 10 to 2, decreasing with a step of 2\n",
    "c4 = np.arange( 0, 2, 0.3)  # with float arguments \n",
    "c5 = np.linspace( 0, 2, 9)  # 9 numbers from 0 to 2\n",
    "    \n",
    "print('c1 = ', c1)\n",
    "print('c2 = ', c2)\n",
    "print('c3 = ', c3)\n",
    "print('c4 = ', c4)\n",
    "print('c5 = ', c5)"
   ]
  },
  {
   "cell_type": "markdown",
   "metadata": {},
   "source": [
    "In many practical situations, the elements of an array are originally unknown but the size is known. Hence, NumPy offers several functions to create arrays. For instance, the function: \n",
    "* __[`zeros()`](https://docs.scipy.org/doc/numpy/reference/generated/numpy.zeros.html#numpy.zeros)__ creates an array full of zeros\n",
    "* __[`ones()`](https://docs.scipy.org/doc/numpy/reference/generated/numpy.ones.html#numpy.ones)__ creates an array full of ones\n",
    "* __[`empty()`](https://docs.scipy.org/doc/numpy/reference/generated/numpy.empty.html#numpy.empty)__ creates an array whose initial content is random and depends on the state of the memory\n",
    "* __[`full()`](https://docs.scipy.org/doc/numpy/reference/generated/numpy.full.html#numpy.full)__ creates an array full of fill values. \n",
    "\n",
    "Only the shape of the new array needs to be specified, while e.g. data type is optional. Below are some examples of how to use such functions:"
   ]
  },
  {
   "cell_type": "code",
   "execution_count": 6,
   "metadata": {},
   "outputs": [
    {
     "name": "stdout",
     "output_type": "stream",
     "text": [
      "d1 =  [[ 0.  0.  0.  0.]\n",
      " [ 0.  0.  0.  0.]\n",
      " [ 0.  0.  0.  0.]] \n",
      "\n",
      "d2 =  [[[ 1.  1.  1.  1.]\n",
      "  [ 1.  1.  1.  1.]\n",
      "  [ 1.  1.  1.  1.]]\n",
      "\n",
      " [[ 1.  1.  1.  1.]\n",
      "  [ 1.  1.  1.  1.]\n",
      "  [ 1.  1.  1.  1.]]] \n",
      "\n",
      "d3 =  [[ 0.3  0.6  0.9]\n",
      " [ 1.2  1.5  1.8]] \n",
      "\n",
      "d4 =  [[ inf  inf  inf]\n",
      " [ inf  inf  inf]\n",
      " [ inf  inf  inf]] \n",
      "\n"
     ]
    }
   ],
   "source": [
    "# Arrays with zeros, ones, random and sime fixed value entries - here you need to specify the sizes of the dimensions (also known as axis in Python)\n",
    "d1 = np.zeros((3, 4))        # 3 rows, 4 columns\n",
    "d2 = np.ones((2, 3, 4))      # 2 of 3 rows and 4 columns\n",
    "d3 = np.empty((2, 3))        # 2 rows, 3 columns\n",
    "d4 = np.full((3,3), np.inf)  # 3 rows, 3 columns\n",
    "\n",
    "print('d1 = ',  d1, '\\n')\n",
    "print('d2 = ',  d2, '\\n')\n",
    "print('d3 = ',  d3, '\\n')\n",
    "print('d4 = ',  d4, '\\n')"
   ]
  },
  {
   "cell_type": "markdown",
   "metadata": {},
   "source": [
    "Alternatively, the shape and type can be copied from a given input array:"
   ]
  },
  {
   "cell_type": "code",
   "execution_count": 7,
   "metadata": {
    "scrolled": true
   },
   "outputs": [
    {
     "name": "stdout",
     "output_type": "stream",
     "text": [
      "c1 =  [[ 0.  0.  0.  0.]\n",
      " [ 0.  0.  0.  0.]\n",
      " [ 0.  0.  0.  0.]] \n",
      "\n",
      "c2 =  [[[ 1.  1.  1.  1.]\n",
      "  [ 1.  1.  1.  1.]\n",
      "  [ 1.  1.  1.  1.]]\n",
      "\n",
      " [[ 1.  1.  1.  1.]\n",
      "  [ 1.  1.  1.  1.]\n",
      "  [ 1.  1.  1.  1.]]] \n",
      "\n",
      "c3 =  [[ 0.  0.  0.]\n",
      " [ 0.  0.  0.]] \n",
      "\n",
      "c4 =  [[ inf  inf  inf]\n",
      " [ inf  inf  inf]\n",
      " [ inf  inf  inf]] \n",
      "\n"
     ]
    }
   ],
   "source": [
    "c1 = np.zeros_like((d1))       # shape and type copied from d1\n",
    "c2 = np.ones_like(d2)          # shape and type copied from d2\n",
    "c3 = np.empty_like(d3)         # shape and type copied from d3\n",
    "c4 = np.full_like(d4, np.inf)  # shape and type copied from d4\n",
    "\n",
    "print('c1 = ',  c1, '\\n')\n",
    "print('c2 = ',  c2, '\\n')\n",
    "print('c3 = ',  c3, '\\n')\n",
    "print('c4 = ',  c4, '\\n')"
   ]
  },
  {
   "cell_type": "markdown",
   "metadata": {},
   "source": [
    "### Creating a copy of an array\n",
    "\n",
    "When making a copy of a NumPy array and please use __[`copy()`](https://docs.scipy.org/doc/numpy/reference/generated/numpy.copy.html#numpy.copy)__, i.e. note the difference between the following array assignments:"
   ]
  },
  {
   "cell_type": "code",
   "execution_count": 8,
   "metadata": {},
   "outputs": [
    {
     "name": "stdout",
     "output_type": "stream",
     "text": [
      "original x =\n",
      " [[1 2 3]\n",
      " [4 5 6]] \n",
      "\n",
      "reference y =\n",
      " [[1 2 3]\n",
      " [4 5 6]] \n",
      "\n",
      "copy z =\n",
      " [[1 2 3]\n",
      " [4 5 6]] \n",
      "\n",
      "The three arrays after assigning x[0,:] = 10:\n",
      "\n",
      "original x =\n",
      " [[10 10 10]\n",
      " [ 4  5  6]] \n",
      "\n",
      "reference y =\n",
      " [[10 10 10]\n",
      " [ 4  5  6]] \n",
      "\n",
      "copy z =\n",
      " [[1 2 3]\n",
      " [4 5 6]] \n",
      "\n"
     ]
    }
   ],
   "source": [
    "x = np.array([[1, 2, 3], [4, 5, 6]]) # create a 2D array x\n",
    "print('original x =\\n', x, '\\n')\n",
    "\n",
    "y = x # create a reference y of x\n",
    "print('reference y =\\n', y, '\\n')\n",
    "\n",
    "z = np.copy(x) # create a copy z\n",
    "print('copy z =\\n', z, '\\n')\n",
    "\n",
    "x[0,:] = 10 # assign 10 on first row\n",
    "\n",
    "print('The three arrays after assigning x[0,:] = 10:\\n')\n",
    "print('original x =\\n', x, '\\n')\n",
    "print('reference y =\\n', y, '\\n')\n",
    "print('copy z =\\n', z, '\\n')"
   ]
  },
  {
   "cell_type": "markdown",
   "metadata": {},
   "source": [
    "## 3. Manipulating arrays with NumPy"
   ]
  },
  {
   "cell_type": "markdown",
   "metadata": {},
   "source": [
    "### Arithmetic operations on arrays\n",
    "\n",
    "Arithmetic operators on NumPy arrays apply *element-wise*. For instance, `*` means element-wise multiplication, and the **dot** function is used for matrix multiplication. (In Matlab, `*` means matrix multiplication, and `.*` is used for matrix multiplication.)"
   ]
  },
  {
   "cell_type": "code",
   "execution_count": 9,
   "metadata": {},
   "outputs": [
    {
     "name": "stdout",
     "output_type": "stream",
     "text": [
      "a = \n",
      " [[1 2 3]\n",
      " [4 5 6]]\n",
      "b = \n",
      " [[ 3 19 20]\n",
      " [ 9 16 14]]\n",
      "c = \n",
      " [[ 7  8]\n",
      " [ 9 10]\n",
      " [11 12]]\n",
      "d = \n",
      " [ 1.  2.  3.  4.  5.  6.  7.  8.  9.] \n",
      "\n",
      "element-element multiplication a*b (see figure): \n",
      " [[ 3 38 60]\n",
      " [36 80 84]] \n",
      "\n",
      "matrix multiplication a*c (see figure): \n",
      " [[ 58  64]\n",
      " [139 154]] \n",
      "\n",
      "raise each element of d to the power of 2: \n",
      " [  1.   4.   9.  16.  25.  36.  49.  64.  81.] \n",
      "\n",
      "divide each element of d by 2: \n",
      " [ 0.5  1.   1.5  2.   2.5  3.   3.5  4.   4.5] \n",
      "\n"
     ]
    }
   ],
   "source": [
    "# Create some arrays a, b, c and d\n",
    "a = np.array([[1, 2, 3], [4, 5, 6]])\n",
    "b = np.array([[3, 19, 20], [9, 16, 14]])\n",
    "c = np.array([[7, 8], [9, 10], [11, 12]])\n",
    "d = np.arange(1., 10., 1)\n",
    "\n",
    "print('a = \\n', a)\n",
    "print('b = \\n', b)\n",
    "print('c = \\n', c)\n",
    "print('d = \\n', d, '\\n')\n",
    "print('element-element multiplication a*b (see figure): \\n', a*b, '\\n') # element-wise array multiplication \n",
    "print('matrix multiplication a*c (see figure): \\n', np.dot(a,c), '\\n') # matrix multiplication\n",
    "print('raise each element of d to the power of 2: \\n', d**2, '\\n')  # raise each element of a to the power of 2\n",
    "print('divide each element of d by 2: \\n', d/2, '\\n') # divide each element of a by 2"
   ]
  },
  {
   "cell_type": "markdown",
   "metadata": {},
   "source": [
    "Element-element array multiplication: <img src=\"figF.png\">\n",
    "\n",
    "Matrix multiplication: <img src=\"figE.png\">"
   ]
  },
  {
   "cell_type": "markdown",
   "metadata": {},
   "source": [
    "### Array functions\n",
    "\n",
    "Arrays can be manipulated in other ways, apart from doing arithmetic operations on them. NumPy offers specific functions e.g. for __[array manipulation](https://docs.scipy.org/doc/numpy/reference/routines.array-manipulation.html)__, like changing array shape: "
   ]
  },
  {
   "cell_type": "code",
   "execution_count": 10,
   "metadata": {},
   "outputs": [
    {
     "name": "stdout",
     "output_type": "stream",
     "text": [
      "original 1x20 row vector b: \n",
      " [ 0  1  2  3  4  5  6  7  8  9 10 11 12 13 14 15 16 17 18 19] \n",
      "\n",
      "b reshaped into 4x5 2D array: \n",
      " [[ 0  1  2  3  4]\n",
      " [ 5  6  7  8  9]\n",
      " [10 11 12 13 14]\n",
      " [15 16 17 18 19]] \n",
      "\n",
      "b reshaped back into 1x20 row vector using .flatten(): \n",
      " [ 0  1  2  3  4  5  6  7  8  9 10 11 12 13 14 15 16 17 18 19] \n",
      "\n",
      "b reshaped back into 1x20 row vector using .ravel(): \n",
      " [ 0  1  2  3  4  5  6  7  8  9 10 11 12 13 14 15 16 17 18 19] \n",
      "\n"
     ]
    }
   ],
   "source": [
    "b = np.arange(20) # vector of uniformly sampled integer values from 0 to 19\n",
    "print('original 1x20 row vector b: \\n', b, '\\n')\n",
    "\n",
    "b = np.reshape(b, (4, 5)) # a new shape to an array without changing its data, e.g. 1x20 to \n",
    "print('b reshaped into 4x5 2D array: \\n', b, '\\n')\n",
    "\n",
    "print('b reshaped back into 1x20 row vector using .flatten(): \\n', b.flatten(), '\\n') # the array collapsed into one dimension again with flatten\n",
    "\n",
    "print('b reshaped back into 1x20 row vector using .ravel(): \\n', b.ravel(), '\\n') # or with ravel"
   ]
  },
  {
   "cell_type": "markdown",
   "metadata": {},
   "source": [
    "Note that various functions can be connected, like the array creation routines from the previous example:"
   ]
  },
  {
   "cell_type": "code",
   "execution_count": 11,
   "metadata": {
    "scrolled": true
   },
   "outputs": [
    {
     "name": "stdout",
     "output_type": "stream",
     "text": [
      "[[ 0  1  2  3  4]\n",
      " [ 5  6  7  8  9]\n",
      " [10 11 12 13 14]\n",
      " [15 16 17 18 19]]\n"
     ]
    }
   ],
   "source": [
    "b = np.arange(20).reshape(4,5)\n",
    "print(b)"
   ]
  },
  {
   "cell_type": "markdown",
   "metadata": {},
   "source": [
    "Joining arrays:"
   ]
  },
  {
   "cell_type": "code",
   "execution_count": 12,
   "metadata": {
    "scrolled": true
   },
   "outputs": [
    {
     "name": "stdout",
     "output_type": "stream",
     "text": [
      "orignal 3x1 array c: \n",
      " [[88]\n",
      " [16]\n",
      " [13]] \n",
      "\n",
      "c concatenated horizontally 3 times --> 3x3 array C: \n",
      " [[88 88 88]\n",
      " [16 16 16]\n",
      " [13 13 13]] \n",
      "\n",
      "the transpose of c concatenated vertically 3 times --> 3x3 array C: \n",
      " [[88 16 13]\n",
      " [88 16 13]\n",
      " [88 16 13]] \n",
      "\n"
     ]
    }
   ],
   "source": [
    "c = np.random.randint(0, high=100, size=(3,1))\n",
    "print('orignal 3x1 array c: \\n', c, '\\n')\n",
    "\n",
    "C = np.hstack([c, c, c]) # concatenate 3x1 array c horizontally\n",
    "print('c concatenated horizontally 3 times --> 3x3 array C: \\n', C, '\\n')\n",
    "\n",
    "C = np.vstack([c.transpose(), c.transpose(), c.transpose()]) # concatenate transpose of array c vertically\n",
    "print('the transpose of c concatenated vertically 3 times --> 3x3 array C: \\n', C, '\\n')"
   ]
  },
  {
   "cell_type": "markdown",
   "metadata": {},
   "source": [
    "Deleting sub-arrays, e.g. whole rows and columns:"
   ]
  },
  {
   "cell_type": "code",
   "execution_count": 13,
   "metadata": {
    "scrolled": false
   },
   "outputs": [
    {
     "name": "stdout",
     "output_type": "stream",
     "text": [
      "original 2D array D: \n",
      " [[31 99 52 21 16]\n",
      " [71 82 43 52 76]\n",
      " [90 89 33 98 51]\n",
      " [77 72 44 54 17]\n",
      " [60 20 78 83 48]] \n",
      "\n",
      "first row deleted from D: \n",
      " [[71 82 43 52 76]\n",
      " [90 89 33 98 51]\n",
      " [77 72 44 54 17]\n",
      " [60 20 78 83 48]] \n",
      "\n",
      "last column deleted from D: \n",
      " [[71 82 43 52]\n",
      " [90 89 33 98]\n",
      " [77 72 44 54]\n",
      " [60 20 78 83]] \n",
      "\n"
     ]
    }
   ],
   "source": [
    "D = np.random.randint(0, high=100, size=(5,5)) # create 10×10 random integer array D\n",
    "print('original 2D array D: \\n', D, '\\n')\n",
    "\n",
    "D = np.delete(D, 0, axis=0)  # delete first row of D\n",
    "print('first row deleted from D: \\n', D, '\\n')\n",
    "\n",
    "D = np.delete(D, -1, axis=1) # delete last column of D\n",
    "print('last column deleted from D: \\n', D, '\\n')"
   ]
  },
  {
   "cell_type": "markdown",
   "metadata": {},
   "source": [
    "One can also apply __[mathematical functions](https://docs.scipy.org/doc/numpy/reference/routines.math.html)__ on array elements, e.g. calculate the exponential of all elements in the input array:"
   ]
  },
  {
   "cell_type": "code",
   "execution_count": 14,
   "metadata": {},
   "outputs": [
    {
     "name": "stdout",
     "output_type": "stream",
     "text": [
      "n = [-2. -1.  0.  1.  2.] \n",
      "\n",
      "Gaussian window w =\n",
      " [ 0.13533528  0.60653066  1.          0.60653066  0.13533528]\n"
     ]
    }
   ],
   "source": [
    "M = 5 # window size\n",
    "std = 1 # standard deviation (sigma)\n",
    "\n",
    "# create a Gaussian window\n",
    "n = np.arange(0, M) - (M - 1.0) / 2.0\n",
    "w = np.exp(-n**2 / (2 * std**2) )\n",
    "\n",
    "print('n =', n, '\\n')\n",
    "print('Gaussian window w =\\n', w)"
   ]
  },
  {
   "cell_type": "markdown",
   "metadata": {},
   "source": [
    "Or obtain specific information about arrays, like __[statistics](https://docs.scipy.org/doc/numpy/reference/routines.statistics.html)__:"
   ]
  },
  {
   "cell_type": "code",
   "execution_count": 15,
   "metadata": {},
   "outputs": [
    {
     "name": "stdout",
     "output_type": "stream",
     "text": [
      "maximum value in array D = 98\n",
      "minimum value in array D = 20\n",
      "mean value in array D = 65.375\n",
      "standard deviation in array D = 21.776922992\n"
     ]
    }
   ],
   "source": [
    "print('maximum value in array D =', np.max(D) )\n",
    "print('minimum value in array D =', np.min(D) )\n",
    "print('mean value in array D =', np.mean(D) )\n",
    "print('standard deviation in array D =', np.std(D) )"
   ]
  },
  {
   "cell_type": "markdown",
   "metadata": {},
   "source": [
    "It is important to note that many of these functions operate on the whole array or along some specified dimension by default. For instance, function  `max` can be used to return the maximum of an array or maximum along an axis. By default, flattened input is used, i.e. the function returns the maximum of the whole array:"
   ]
  },
  {
   "cell_type": "code",
   "execution_count": 16,
   "metadata": {},
   "outputs": [
    {
     "name": "stdout",
     "output_type": "stream",
     "text": [
      "D = \n",
      " [[71 82 43 52]\n",
      " [90 89 33 98]\n",
      " [77 72 44 54]\n",
      " [60 20 78 83]] \n",
      "\n",
      "D flattened = \n",
      " [71 82 43 52 90 89 33 98 77 72 44 54 60 20 78 83] \n",
      "\n",
      "maximum value in array D = 98\n",
      "maximum value in each column of D = [90 89 78 98]\n",
      "maximum value in each row of D = [82 98 77 83]\n"
     ]
    }
   ],
   "source": [
    "print('D = \\n', D, '\\n')\n",
    "print('D flattened = \\n', D.flatten(), '\\n') # A flattened\n",
    "print('maximum value in array D =', np.max(D) ) # max in array\n",
    "print('maximum value in each column of D =', np.max(D, axis=0) ) # max in each column\n",
    "print('maximum value in each row of D =', np.max(D, axis=1) ) # max in each row"
   ]
  },
  {
   "cell_type": "markdown",
   "metadata": {},
   "source": [
    "These things are also crucial to understand in order to write vectorized code and avoid useless for loops, i.e. in many cases, **one does not have to iterate through all individual elements or rows/columns in order to perform a specific operation on them**."
   ]
  },
  {
   "cell_type": "markdown",
   "metadata": {},
   "source": [
    "Remember that you can (and are encouraged to) look up the use of these (and other) functions from the NumPy documentation, including __[array manipulation](https://docs.scipy.org/doc/numpy/reference/routines.array-manipulation.html)__, __[mathematical functions](https://docs.scipy.org/doc/numpy/reference/routines.math.html)__ and __[statistics](https://docs.scipy.org/doc/numpy/reference/routines.statistics.html)__, for instance."
   ]
  },
  {
   "cell_type": "markdown",
   "metadata": {},
   "source": [
    "## 4. Index and slice arrays\n",
    "\n",
    "### Slicing\n",
    "\n",
    "As is standard for Python, NumPy uses 0 (zero) based indexing as well. Entries in arrays can be accessed by indicating the name of the array and the entry position in each dimension inside square brackets: "
   ]
  },
  {
   "cell_type": "code",
   "execution_count": 17,
   "metadata": {},
   "outputs": [
    {
     "name": "stdout",
     "output_type": "stream",
     "text": [
      "e =  [  0   1   8  27  64 125 216 343 512 729] \n",
      "\n",
      "Third entry in e: 8 \n",
      "\n",
      "Entries 2 to 5 in e: [ 8 27 64] \n",
      "\n",
      "Every second entry from 2 to 8 in e: [  1  27 125 343] \n",
      "\n"
     ]
    }
   ],
   "source": [
    "e = np.arange(10)**3  # define new array\n",
    "print('e = ', e, '\\n')\n",
    "print('Third entry in e:', e[2], '\\n') # access the third entry from left to right -> indexing\n",
    "print('Entries 2 to 5 in e:', e[2:5], '\\n') # access entries 3 to 5 -> slicing\n",
    "print('Every second entry from 2 to 8 in e:', e[1:8:2], '\\n') # access every second entry from 2 to 8 -> slicing"
   ]
  },
  {
   "cell_type": "markdown",
   "metadata": {},
   "source": [
    "In the case of 2D arrays, always specify the row first and column second (row, col):"
   ]
  },
  {
   "cell_type": "code",
   "execution_count": 18,
   "metadata": {},
   "outputs": [
    {
     "name": "stdout",
     "output_type": "stream",
     "text": [
      "b = \n",
      " [[ 0  1  2  3  4]\n",
      " [ 5  6  7  8  9]\n",
      " [10 11 12 13 14]\n",
      " [15 16 17 18 19]] \n",
      "\n",
      "Entry in row 3, column 2 in b: 11 \n",
      "\n",
      "\"Middle-bottom\" minor array of b: \n",
      " [[11 12 13]\n",
      " [16 17 18]] \n",
      "\n",
      "Second column of b: \n",
      " [ 1  6 11 16] \n",
      "\n",
      "Third row of b: \n",
      " [10 11 12 13 14] \n",
      "\n",
      "First two rows and columns of b: \n",
      " [[0 1]\n",
      " [5 6]] \n",
      "\n",
      "Last two rows and columns of b:\n",
      " [[13 14]\n",
      " [18 19]] \n",
      "\n"
     ]
    }
   ],
   "source": [
    "# recall b is defined above\n",
    "b = np.arange(20).reshape(4,5)\n",
    "\n",
    "print('b = \\n', b, '\\n')\n",
    "print('Entry in row 3, column 2 in b:', b[2,1], '\\n') # access entry in position 2,1 -> indexing\n",
    "print('\"Middle-bottom\" minor array of b: \\n', b[-2:,1:-1], '\\n') # access entries in the second and third rows and columns -> slicing\n",
    "print('Second column of b: \\n', b[:,1], '\\n')\n",
    "print('Third row of b: \\n', b[2,:], '\\n')\n",
    "print('First two rows and columns of b: \\n', b[:2, :2], '\\n')\n",
    "print('Last two rows and columns of b:\\n', b[-2:,-2:], '\\n')"
   ]
  },
  {
   "cell_type": "markdown",
   "metadata": {},
   "source": [
    "Replace the second column and last row of `A` with `b` using indexing:"
   ]
  },
  {
   "cell_type": "code",
   "execution_count": 19,
   "metadata": {},
   "outputs": [
    {
     "name": "stdout",
     "output_type": "stream",
     "text": [
      "A = \n",
      " [[72  6 99]\n",
      " [79 60 55]\n",
      " [89 25 63]] \n",
      "\n",
      "b = \n",
      " [[ 7]\n",
      " [98]\n",
      " [67]] \n",
      "\n",
      "Second column of A replaced with b = \n",
      " [[72  7 99]\n",
      " [79 98 55]\n",
      " [89 67 63]] \n",
      "\n",
      "Last row of A replaced with b = \n",
      " [[72  7 99]\n",
      " [79 98 55]\n",
      " [ 7 98 67]] \n",
      "\n"
     ]
    }
   ],
   "source": [
    "# create some arrays A and b\n",
    "A = np.random.randint(0,high=100,size=(3,3))\n",
    "b = np.random.randint(0,high=100,size=(3,1))\n",
    "\n",
    "print('A = \\n', A, '\\n')\n",
    "print('b = \\n', b, '\\n')\n",
    "\n",
    "A[:,1] = b.flatten() # replace second column of A with b\n",
    "print('Second column of A replaced with b = \\n', A,  '\\n')\n",
    "\n",
    "A[-1,:] = b.flatten() # replace last row of A with b\n",
    "print('Last row of A replaced with b = \\n', A, '\\n')"
   ]
  },
  {
   "cell_type": "markdown",
   "metadata": {},
   "source": [
    "For 2D multichannel arrays, like RGB or HSV images, the additional last coordinate would specify the channel (row, col, ch)."
   ]
  },
  {
   "cell_type": "markdown",
   "metadata": {},
   "source": [
    "### Logical indexing:\n",
    "\n",
    "You can use the logical operators `>, >=, <, <=, ==, |, &` (greater than, greater than or equal to, less than, less than or equal to, equal, or, and) to test entries in arrays, as follows:"
   ]
  },
  {
   "cell_type": "code",
   "execution_count": 20,
   "metadata": {},
   "outputs": [
    {
     "name": "stdout",
     "output_type": "stream",
     "text": [
      "I = \n",
      " [[17 24  1  8 15]\n",
      " [23  5  7 14 16]\n",
      " [ 4  6 13 20 22]\n",
      " [10 12 19 21  3]\n",
      " [11 18 25  2  9]] \n",
      "\n",
      "I[row,col] < 10:\n",
      " [[False False  True  True False]\n",
      " [False  True  True False False]\n",
      " [ True  True False False False]\n",
      " [False False False False  True]\n",
      " [False False False  True  True]] \n",
      "\n",
      "Inverted boolean array, i.e. I[row,col] >= 10:\n",
      " [[ True  True False False  True]\n",
      " [ True False False  True  True]\n",
      " [False False  True  True  True]\n",
      " [ True  True  True  True False]\n",
      " [ True  True  True False False]] \n",
      "\n"
     ]
    }
   ],
   "source": [
    "# some 2D array I\n",
    "I = np.array([[17, 24, 1, 8, 15],\n",
    "              [23, 5, 7, 14, 16],\n",
    "              [4, 6, 13, 20, 22],\n",
    "              [10, 12, 19, 21, 3],\n",
    "              [11, 18, 25,  2,  9]])\n",
    "\n",
    "L = I < 10 # boolean array size of I where True indicates elements of I < 10\n",
    "\n",
    "print('I = \\n', I, '\\n')\n",
    "\n",
    "print('I[row,col] < 10:\\n', L, '\\n') # gives the entry values of the elements of a that are less than 10.\n",
    "\n",
    "print('Inverted boolean array, i.e. I[row,col] >= 10:\\n', np.logical_not(L), '\\n') # all other values"
   ]
  },
  {
   "cell_type": "markdown",
   "metadata": {},
   "source": [
    "This operation generates a new array of the same size as that being tested but with entries either `False` or `True` depending on how they evaluate. The resulting logical array can be used *access* elements of another array. For instance, one can list or operate on all the elements of the array that meet the condition:"
   ]
  },
  {
   "cell_type": "code",
   "execution_count": 21,
   "metadata": {
    "scrolled": true
   },
   "outputs": [
    {
     "name": "stdout",
     "output_type": "stream",
     "text": [
      "list of values in array I > 10: \n",
      " [1 8 5 7 4 6 3 2 9] \n",
      "\n",
      "list of values in array I <= 10: \n",
      " [17 24 15 23 14 16 13 20 22 10 12 19 21 11 18 25] \n",
      "\n",
      "[[0 0 1 8 0]\n",
      " [0 5 7 0 0]\n",
      " [4 6 0 0 0]\n",
      " [0 0 0 0 3]\n",
      " [0 0 0 2 9]] \n",
      "\n",
      "[[-1 -1  1  8 -1]\n",
      " [-1  5  7 -1 -1]\n",
      " [ 4  6 -1 -1 -1]\n",
      " [-1 -1 -1 -1  3]\n",
      " [-1 -1 -1  2  9]]\n"
     ]
    }
   ],
   "source": [
    "print('list of values in array I > 10: \\n', I[L], '\\n') # lists all element values of a that are less than 10.\n",
    "\n",
    "print('list of values in array I <= 10: \\n', I[np.logical_not(L)], '\\n') # lists all other element values.\n",
    "\n",
    "J = np.zeros_like(I) # J is zero matrix size of I\n",
    "\n",
    "J[L] = I[L] # copy all the elements from I that are less than 10 to J to corresponding locations\n",
    "\n",
    "print(J, '\\n')\n",
    "\n",
    "J[J==0] = -1 # set all values of J equal to zero to -1\n",
    "\n",
    "print(J)"
   ]
  },
  {
   "cell_type": "markdown",
   "metadata": {},
   "source": [
    "Again, also these things are also crucial to understand in order to write vectorized code and avoid useless for loops."
   ]
  },
  {
   "cell_type": "markdown",
   "metadata": {},
   "source": [
    "## 5. Help and Documentation\n",
    "\n",
    "You have already used many of the tools NumPy has on offer. You might want to read more about how those functions are used, and you should! \n",
    "To do so, you can type in the terminal:\n",
    "\n",
    "`help(functionname)`\n",
    "\n",
    "Or, you can also check the documentation and search the name of the function there."
   ]
  },
  {
   "cell_type": "markdown",
   "metadata": {
    "collapsed": true
   },
   "source": [
    "#### References\n",
    "\n",
    "[1] https://github.com/karinsasaki/python-workshop-image-processing/blob/master/pre_tutorial/arrays-and-numpy.ipynb"
   ]
  },
  {
   "cell_type": "code",
   "execution_count": null,
   "metadata": {
    "collapsed": true
   },
   "outputs": [],
   "source": []
  }
 ],
 "metadata": {
  "kernelspec": {
   "display_name": "Python 2",
   "language": "python",
   "name": "python2"
  },
  "language_info": {
   "codemirror_mode": {
    "name": "ipython",
    "version": 2
   },
   "file_extension": ".py",
   "mimetype": "text/x-python",
   "name": "python",
   "nbconvert_exporter": "python",
   "pygments_lexer": "ipython2",
   "version": "2.7.13"
  }
 },
 "nbformat": 4,
 "nbformat_minor": 1
}
