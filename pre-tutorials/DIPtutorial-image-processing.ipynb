{
 "cells": [
  {
   "cell_type": "markdown",
   "metadata": {},
   "source": [
    "# Pre-tutorial on Python for Digital Image Processing\n",
    "\n",
    "This short Python tutorial introduces some general functions and practices needed for making the programming assignments for the Digital Image Processing course, like reading and displaying images. Please note that this notebook has been modified from [1]."
   ]
  },
  {
   "cell_type": "markdown",
   "metadata": {},
   "source": [
    "### Setting up the environment \n",
    "\n",
    "First, we need to import a basic modules for reading and plotting images, and manipulating arrays:"
   ]
  },
  {
   "cell_type": "code",
   "execution_count": null,
   "metadata": {
    "collapsed": true
   },
   "outputs": [],
   "source": [
    "import matplotlib.pylab as plt # plotting package\n",
    "from skimage import io         # utilities to read and write images in various formats\n",
    "import numpy as np             # array manipulation package"
   ]
  },
  {
   "cell_type": "markdown",
   "metadata": {},
   "source": [
    "(Note: If you need to familiarise yourself with arrays, please refer to the NumPy pre-tutorial.)"
   ]
  },
  {
   "cell_type": "markdown",
   "metadata": {},
   "source": [
    "Run magic command `%matplotlib inline` in order to display the graphics inline:"
   ]
  },
  {
   "cell_type": "code",
   "execution_count": null,
   "metadata": {
    "collapsed": true
   },
   "outputs": [],
   "source": [
    "%matplotlib inline"
   ]
  },
  {
   "cell_type": "markdown",
   "metadata": {},
   "source": [
    "Set the default size of figures in the notebook (unless otherwise specified):"
   ]
  },
  {
   "cell_type": "code",
   "execution_count": null,
   "metadata": {
    "collapsed": true
   },
   "outputs": [],
   "source": [
    "plt.rcParams['figure.figsize'] = (10, 5) # width and height"
   ]
  },
  {
   "cell_type": "markdown",
   "metadata": {},
   "source": [
    "### Reading and plotting an image\n",
    "\n",
    "Read an RGB image and display some of its properties:"
   ]
  },
  {
   "cell_type": "code",
   "execution_count": null,
   "metadata": {
    "collapsed": true
   },
   "outputs": [],
   "source": [
    "img = io.imread('mandril.png')\n",
    "\n",
    "# variable type\n",
    "print 'variable type:', type(img)\n",
    "\n",
    "# data type\n",
    "print 'data type:', img.dtype    \n",
    "\n",
    "# print array shape/dimensions\n",
    "print 'array shape:', img.shape  \n",
    "\n",
    "# print number of array dimensions\n",
    "print 'number of dimensions:', img.ndim  \n",
    "\n",
    "# print number of elements in the array.\n",
    "print 'number of elements:', img.size  "
   ]
  },
  {
   "cell_type": "markdown",
   "metadata": {},
   "source": [
    "Plot the image:"
   ]
  },
  {
   "cell_type": "code",
   "execution_count": null,
   "metadata": {
    "collapsed": true
   },
   "outputs": [],
   "source": [
    "fig, ax = plt.subplots() # create figure\n",
    "ax.imshow(img); # display image"
   ]
  },
  {
   "cell_type": "markdown",
   "metadata": {},
   "source": [
    "The axes are useful in many cases but they can be also disabled:"
   ]
  },
  {
   "cell_type": "code",
   "execution_count": null,
   "metadata": {
    "collapsed": true
   },
   "outputs": [],
   "source": [
    "fig, ax = plt.subplots()\n",
    "ax.imshow(img)\n",
    "ax.axis('off'); # disable axes"
   ]
  },
  {
   "cell_type": "markdown",
   "metadata": {},
   "source": [
    "In general, it is also good to give titles to images, especially if there are several subplots in the figure:"
   ]
  },
  {
   "cell_type": "code",
   "execution_count": null,
   "metadata": {
    "collapsed": true
   },
   "outputs": [],
   "source": [
    "fig, ax = plt.subplots()\n",
    "ax.imshow(img)\n",
    "ax.set_title('mandril.png') # set title\n",
    "ax.axis('off');"
   ]
  },
  {
   "cell_type": "markdown",
   "metadata": {},
   "source": [
    "It is also possible to override the default figure size if needed:"
   ]
  },
  {
   "cell_type": "code",
   "execution_count": null,
   "metadata": {
    "collapsed": true
   },
   "outputs": [],
   "source": [
    "fig, ax = plt.subplots(figsize=(10,6)) # create figure with custom size\n",
    "ax.imshow(img)\n",
    "ax.set_title('mandril.png')\n",
    "ax.axis('off');"
   ]
  },
  {
   "cell_type": "markdown",
   "metadata": {},
   "source": [
    "Subplots are often requested while making the assignments. Let's plot the different colour channels of the RGB image (sliced array), in the same figure:"
   ]
  },
  {
   "cell_type": "code",
   "execution_count": null,
   "metadata": {
    "collapsed": true
   },
   "outputs": [],
   "source": [
    "fig, ax = plt.subplots(nrows=1, ncols=3) # create figure with 1x3 subplots\n",
    "ax[0].imshow(img[:,:,0]) # take the first channel which corresponds to red\n",
    "ax[0].set_title('red channel')\n",
    "ax[0].axis('off')\n",
    "ax[1].imshow(img[:,:,1]) # take the second channel which corresponds to green\n",
    "ax[1].set_title('green channel')\n",
    "ax[1].axis('off')\n",
    "ax[2].imshow(img[:,:,2]) # take the third channel which corresponds to blue\n",
    "ax[2].set_title('blue channel') \n",
    "ax[2].axis('off');\n",
    "fig.tight_layout() # automatically adjusts subplot params so that the subplots fit into the figure area"
   ]
  },
  {
   "cell_type": "markdown",
   "metadata": {},
   "source": [
    "The default colormap lookup table (LUT) is `viridis`, thus the intensities of the single channels are shown in pseudocolor. The colormap of each subplot can be switched into grayscale: "
   ]
  },
  {
   "cell_type": "code",
   "execution_count": null,
   "metadata": {
    "collapsed": true
   },
   "outputs": [],
   "source": [
    "fig, ax = plt.subplots(1, 3)\n",
    "ax[0].imshow(img[:,:,0], cmap=plt.get_cmap('gray')) # set colormap to gray\n",
    "ax[0].set_title('red channel')\n",
    "ax[0].axis('off')\n",
    "ax[1].imshow(img[:,:,1], cmap=plt.get_cmap('gray')) # set colormap to gray\n",
    "ax[1].set_title('green channel')\n",
    "ax[1].axis('off')\n",
    "ax[2].imshow(img[:,:,2], cmap=plt.get_cmap('gray')) # set colormap to gray\n",
    "ax[2].set_title('blue channel')\n",
    "ax[2].axis('off');\n",
    "fig.tight_layout()"
   ]
  },
  {
   "cell_type": "markdown",
   "metadata": {},
   "source": [
    "Or one can simply change the default colormap into `gray`:"
   ]
  },
  {
   "cell_type": "code",
   "execution_count": null,
   "metadata": {
    "collapsed": true
   },
   "outputs": [],
   "source": [
    "plt.rcParams['image.cmap'] = 'gray' # set default colormap to gray\n",
    "\n",
    "fig, ax = plt.subplots(1, 3)\n",
    "ax[0].imshow(img[:,:,0])\n",
    "ax[0].set_title('red channel')\n",
    "ax[0].axis('off')\n",
    "ax[1].imshow(img[:,:,1])\n",
    "ax[1].set_title('green channel')\n",
    "ax[1].axis('off')\n",
    "ax[2].imshow(img[:,:,2])\n",
    "ax[2].set_title('blue channel')\n",
    "ax[2].axis('off');\n",
    "fig.tight_layout() "
   ]
  },
  {
   "cell_type": "markdown",
   "metadata": {},
   "source": [
    "### Image data types and unexpected errors with arithmetic\n",
    "\n",
    "Different image __[data types](http://scikit-image.org/docs/dev/user_guide/data_types.html)__ (`dtype`) are assumed to use the following ranges:\n",
    "* `uint8` -> [0, 255]\n",
    "* `uint16` ->[0, 65535]\n",
    "* `uint32` -> [0, 232]\n",
    "* `float` -> [-1, 1] or [0, 1]\n",
    "* `int8` -> [-128, 127]\n",
    "* `int16` -> [-32768, 32767]\n",
    "* `int32` -> [-231, 231 - 1]\n",
    "\n",
    "Therefore, image intensities should be always __[scaled](http://scikit-image.org/docs/dev/user_guide/data_types.html#rescaling-intensity-values)__ according to the data type in order to avoid distortion.\n",
    "\n",
    "Many image processing functions e.g. in `skimage` are usually designed so that they accept any of the aforementioned data types but the returned image may be of different data type due to efficiency reasons. In `skimage`, there are utility functions for converting data types and rescaling the image intensities accordingly:\n",
    "* `img_as_float` -> 64-bit floating point\n",
    "* `img_as_ubyte` -> 8-bit uint\n",
    "* `img_as_uint` -> 16-bit uint\n",
    "* `img_as_int` -> 16-bit int\n",
    "\n",
    "Please note that one should be very careful when using `astype` with images because it violates the aforementioned assumptions [2]:"
   ]
  },
  {
   "cell_type": "code",
   "execution_count": null,
   "metadata": {
    "collapsed": true
   },
   "outputs": [],
   "source": [
    "from skimage import img_as_float\n",
    "\n",
    "image = np.arange(0, 255, 50, dtype=np.uint8)\n",
    "\n",
    "print 'astype conversion:', image.astype(np.float) # These float values are out of range.\n",
    "\n",
    "print 'conversion with scaling:', img_as_float(image)\n"
   ]
  },
  {
   "cell_type": "markdown",
   "metadata": {},
   "source": [
    "Data types can be a source of \"unexpected errors\" when performing arithmetic operations, like addition and subtraction on images. Therefore, it is crucial to understand the different data types and the corresponding value ranges when one should have no problem recognising them.\n",
    "\n",
    "NumPy uses modulo arithmetic on **overflow values** instead of clipping them."
   ]
  },
  {
   "cell_type": "code",
   "execution_count": null,
   "metadata": {
    "collapsed": true
   },
   "outputs": [],
   "source": [
    "img = np.random.randint(0,255,[10,10], dtype='uint8') # 10x10 uint8 image with random values\n",
    "\n",
    "# show original\n",
    "data_plot = plt.imshow(img, vmin=0, vmax=255, interpolation='None')\n",
    "plt.show()\n",
    "\n",
    "# add 100 to each pixel value \n",
    "img100 = img + 100\n",
    "\n",
    "# show the resulting image\n",
    "data_plot = plt.imshow(img100, vmin=0, vmax=255, interpolation='None')\n",
    "plt.show()\n",
    "\n",
    "print 'data type after addition:', img100.dtype\n",
    "print '\\n'\n",
    "\n",
    "print 'Original image:'\n",
    "print img\n",
    "print '\\n'\n",
    "print 'Note that result image values are calculated modulo 256, i.e. (img + 100) % 256:'\n",
    "print img100\n",
    "print '\\n'\n",
    "\n",
    "print 'img / 3 ... and floats get truncated toward zero:'\n",
    "print img / 3"
   ]
  },
  {
   "cell_type": "markdown",
   "metadata": {},
   "source": [
    "In order to get clipping behavior on overflow values, one can use a higher precision data types, for instance:"
   ]
  },
  {
   "cell_type": "code",
   "execution_count": null,
   "metadata": {
    "collapsed": true
   },
   "outputs": [],
   "source": [
    "img = np.random.randint(0,255,[10,10], dtype='uint16') # use higher precision, i.e. uint16\n",
    "\n",
    "# show original\n",
    "data_plot = plt.imshow(img, vmin=0, vmax=255, interpolation='None')\n",
    "plt.show()\n",
    "\n",
    "# add 100 to each pixel value\n",
    "img100 = img + 100\n",
    "\n",
    "# clip (saturate) resulting image and convert to uint8\n",
    "img100uint8 = np.clip(img100, 0, 255).astype(np.uint8)\n",
    "\n",
    "# add 100 to each pixel value and show resulting image\n",
    "data_plot = plt.imshow(img100uint8, interpolation='None')\n",
    "plt.show()\n",
    "\n",
    "print 'data type after addition:', img100.dtype\n",
    "print '\\n'\n",
    "\n",
    "print 'Original image:'\n",
    "print img\n",
    "print '\\n'\n",
    "print 'Note the values exceeding 255 in the resulting int16 image:'\n",
    "print img100\n",
    "print '\\n'\n",
    "print 'Clipped int16 image converted into uint8 (values over range saturated into 255):'\n",
    "print img100uint8\n",
    "print '\\n'"
   ]
  },
  {
   "cell_type": "markdown",
   "metadata": {},
   "source": [
    "Note that similar \"issues\" occur with negative values when subtracting images."
   ]
  },
  {
   "cell_type": "markdown",
   "metadata": {},
   "source": [
    "#### References\n",
    "\n",
    "[1] https://github.com/karinsasaki/python-workshop-image-processing/blob/master/pre_tutorial/pre-tutorial.ipynb\n",
    "\n",
    "[2] http://scikit-image.org/docs/dev/user_guide/data_types.html"
   ]
  },
  {
   "cell_type": "code",
   "execution_count": null,
   "metadata": {
    "collapsed": true
   },
   "outputs": [],
   "source": []
  }
 ],
 "metadata": {
  "kernelspec": {
   "display_name": "Python 2",
   "language": "python",
   "name": "python2"
  },
  "language_info": {
   "codemirror_mode": {
    "name": "ipython",
    "version": 2
   },
   "file_extension": ".py",
   "mimetype": "text/x-python",
   "name": "python",
   "nbconvert_exporter": "python",
   "pygments_lexer": "ipython2",
   "version": "2.7.13"
  }
 },
 "nbformat": 4,
 "nbformat_minor": 1
}
